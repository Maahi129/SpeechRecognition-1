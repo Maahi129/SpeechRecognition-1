{
  "nbformat": 4,
  "nbformat_minor": 0,
  "metadata": {
    "colab": {
      "name": "Human Speech Recognition.ipynb",
      "provenance": []
    },
    "kernelspec": {
      "name": "python3",
      "display_name": "Python 3"
    },
    "language_info": {
      "name": "python"
    }
  },
  "cells": [
    {
      "cell_type": "code",
      "execution_count": 7,
      "metadata": {
        "id": "6RgV2-1P4nNK"
      },
      "outputs": [],
      "source": [
        "# !pip install gTTs\n",
        "from gtts import gTTS\n",
        "import os"
      ]
    },
    {
      "cell_type": "code",
      "source": [
        "text = \"Hello, How are you\""
      ],
      "metadata": {
        "id": "WL_PWH_x4zrM"
      },
      "execution_count": 21,
      "outputs": []
    },
    {
      "cell_type": "code",
      "source": [
        "myobj = gTTS(text = text, lang = \"en\", slow = False)"
      ],
      "metadata": {
        "id": "QA-BARln6DbZ"
      },
      "execution_count": 22,
      "outputs": []
    },
    {
      "cell_type": "code",
      "source": [
        "myobj.save(\"C:\\\\Users\\\\91891\\\\Documents\\\\Sound Recordings\\\\mytext.mp3\")"
      ],
      "metadata": {
        "id": "Nd86eQSV6tjb"
      },
      "execution_count": 26,
      "outputs": []
    },
    {
      "cell_type": "code",
      "source": [
        "os.system(\"myaudio C:\\\\Users\\\\91891\\\\Documents\\\\Sound Recordings\\\\mytext.mp3\")"
      ],
      "metadata": {
        "id": "N91d87647A4G"
      },
      "execution_count": null,
      "outputs": []
    },
    {
      "cell_type": "code",
      "source": [
        ""
      ],
      "metadata": {
        "id": "PzYEhg657qqu"
      },
      "execution_count": null,
      "outputs": []
    }
  ]
}